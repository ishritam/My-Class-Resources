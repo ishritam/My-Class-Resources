{
 "cells": [
  {
   "attachments": {},
   "cell_type": "markdown",
   "metadata": {},
   "source": [
    "# Control flow: if else\n",
    "\n",
    "* The **if…elif…else** statement is used in Python for decision making.\n",
    "* Here the test expression are the Conditions."
   ]
  },
  {
   "cell_type": "markdown",
   "metadata": {},
   "source": [
    "**Syntax for if....else statement:**\n",
    "\n",
    "    if test expression:\n",
    "        <body1>\n",
    "    else: \n",
    "        <body2>"
   ]
  },
  {
   "cell_type": "markdown",
   "metadata": {},
   "source": [
    "* The program evaluates the test expression or the condition and will execute statement(s) only if the text expression is True.\n",
    "\n",
    "* If the text expression is False, the statement(s) will not execute.\n",
    "* \"else\" does not contain any condition."
   ]
  },
  {
   "cell_type": "code",
   "execution_count": 6,
   "metadata": {},
   "outputs": [
    {
     "name": "stdout",
     "output_type": "stream",
     "text": [
      "Do you like FootBall: [Y/N] N\n",
      "What about Cricket?\n"
     ]
    }
   ],
   "source": [
    "a = input(\"Do you like FootBall: [Y/N] \")\n",
    "if a == \"Y\":\n",
    "    print(\"I am a huge fan of Ronaldo.\")\n",
    "else:\n",
    "    print(\"What about Cricket?\")"
   ]
  },
  {
   "cell_type": "markdown",
   "metadata": {},
   "source": [
    "**Syntax if...elif...else statement:**\n",
    "\n",
    "    if  <condition1>:\n",
    "        <body1>\n",
    "    elif <condition2>:\n",
    "        <body2>\n",
    "    ...\n",
    "    elif <condition_n>:\n",
    "        <body_n>\n",
    "    ...\n",
    "    else:\n",
    "        <bodyelse>\n",
    "        \n",
    "* Body of **if…elif…else** statement is always indented by the tab(4 spaces)."
   ]
  },
  {
   "cell_type": "code",
   "execution_count": 4,
   "metadata": {},
   "outputs": [
    {
     "name": "stdout",
     "output_type": "stream",
     "text": [
      "Enter your first number: 1204\n",
      "Enter your second number: 1024\n",
      "First number greater then the second.\n"
     ]
    }
   ],
   "source": [
    "p = int(input(\"Enter your first number: \"))\n",
    "q = int(input(\"Enter your second number: \"))\n",
    "\n",
    "if p > q:\n",
    "    print(\"First number greater then the second.\")\n",
    "elif p < q:\n",
    "    print(\"Second number greater then the first.\")\n",
    "else:\n",
    "    print(\"Both First and Second number are equal.\")"
   ]
  },
  {
   "cell_type": "markdown",
   "metadata": {},
   "source": [
    "# Nested if Statements"
   ]
  },
  {
   "cell_type": "markdown",
   "metadata": {},
   "source": [
    "We can have a if...elif...else statement inside another if...elif...else statement. This is called **nesting** in computer programming."
   ]
  },
  {
   "cell_type": "code",
   "execution_count": 12,
   "metadata": {},
   "outputs": [
    {
     "name": "stdout",
     "output_type": "stream",
     "text": [
      "Enter a number: 20\n",
      "Positive number\n"
     ]
    }
   ],
   "source": [
    "'''In this program, we input a number\n",
    "check if the number is positive or\n",
    "negative or zero and display\n",
    "an appropriate message\n",
    "This time we use nested if statement'''\n",
    "\n",
    "num = float(input(\"Enter a number: \"))\n",
    "if num >= 0:\n",
    "    if num == 0:\n",
    "        print(\"Zero\")\n",
    "    else:\n",
    "        print(\"Positive number\")\n",
    "else:\n",
    "    print(\"Negative number\")"
   ]
  },
  {
   "cell_type": "code",
   "execution_count": 11,
   "metadata": {},
   "outputs": [
    {
     "name": "stdout",
     "output_type": "stream",
     "text": [
      "Do you like FootBall: [Y/N] N\n",
      "What about Cricket?: [Y/N] N\n",
      "What about Basketball?: [Y/N] Y\n",
      "I am a big fan of Lebron James.\n"
     ]
    }
   ],
   "source": [
    "#Let's try a more gererious example\n",
    "a = input(\"Do you like FootBall: [Y/N] \")\n",
    "if a == \"Y\":\n",
    "    print(\"I am a huge fan of Ronaldo.\")\n",
    "elif a ==\"N\":\n",
    "    b = input(\"What about Cricket?: [Y/N] \")\n",
    "    if b == \"Y\":\n",
    "        print(\"I am a huge fan of MSD.\")\n",
    "    elif b == \"N\":\n",
    "        c = input(\"What about Basketball?: [Y/N] \")\n",
    "        if c == \"Y\":\n",
    "            print(\"I am a big fan of Lebron James.\")\n",
    "        elif c ==\"N\":\n",
    "            print(\"I think. You are not a Sportsman.\")\n",
    "        else:\n",
    "            print(\"Invalid Input.\")\n",
    "    else:\n",
    "        print(\"Invalid Input.\")\n",
    "else:\n",
    "    print(\"Invalid Input.\")"
   ]
  },
  {
   "cell_type": "code",
   "execution_count": null,
   "metadata": {},
   "outputs": [],
   "source": []
  }
 ],
 "metadata": {
  "kernelspec": {
   "display_name": "Python 3",
   "language": "python",
   "name": "python3"
  },
  "language_info": {
   "codemirror_mode": {
    "name": "ipython",
    "version": 3
   },
   "file_extension": ".py",
   "mimetype": "text/x-python",
   "name": "python",
   "nbconvert_exporter": "python",
   "pygments_lexer": "ipython3",
   "version": "3.7.3"
  }
 },
 "nbformat": 4,
 "nbformat_minor": 2
}
