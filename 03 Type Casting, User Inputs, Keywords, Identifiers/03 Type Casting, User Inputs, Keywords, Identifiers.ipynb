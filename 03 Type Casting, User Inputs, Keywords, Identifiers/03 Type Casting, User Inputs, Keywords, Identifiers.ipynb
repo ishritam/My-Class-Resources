{
 "cells": [
  {
   "cell_type": "markdown",
   "metadata": {},
   "source": [
    "# Type Conversion and Type Casting\n",
    "\n",
    "The process of converting the value of one data type (integer, string, float, etc.) to another data type is called type conversion. Python has two types of type conversion.\n",
    "\n",
    "    1. Implicit Type Conversion\n",
    "    2. Explicit Type Conversion"
   ]
  },
  {
   "cell_type": "markdown",
   "metadata": {},
   "source": [
    "### Implicit Type Conversion\n",
    "In Implicit type conversion, Python automatically converts one data type to another data type. This process doesn't need any user involvement.\n",
    "\n",
    "Let's see an example where Python promotes the conversion of the lower data type (integer) to the higher data type (float)."
   ]
  },
  {
   "cell_type": "code",
   "execution_count": 6,
   "metadata": {},
   "outputs": [
    {
     "name": "stdout",
     "output_type": "stream",
     "text": [
      "datatype of a: <class 'int'>\n",
      "datatype of b: <class 'float'>\n",
      "\n",
      "Value of num_new: 124.23\n",
      "datatype of num_new: <class 'float'>\n"
     ]
    }
   ],
   "source": [
    "#Converting integer to float\n",
    "a = 123\n",
    "b = 1.23\n",
    "\n",
    "num_new = a + b\n",
    "\n",
    "print(f\"datatype of a: {type(a)}\")\n",
    "print(f\"datatype of b: {type(b)}\")\n",
    "print()\n",
    "print(f\"Value of num_new: {num_new}\")\n",
    "print(f\"datatype of num_new: {type(num_new)}\")"
   ]
  },
  {
   "cell_type": "markdown",
   "metadata": {},
   "source": [
    "* In the output, we can see the data type of a is an integer while the data type of b is a float.<br>\n",
    "* Also, we can see the num_new has a float data type because Python always converts smaller data types to larger data types to avoid the loss of data."
   ]
  },
  {
   "cell_type": "code",
   "execution_count": 7,
   "metadata": {},
   "outputs": [
    {
     "name": "stdout",
     "output_type": "stream",
     "text": [
      "Data type of a: {type(a)}\n",
      "Data type of b: {type(b)}\n"
     ]
    },
    {
     "ename": "TypeError",
     "evalue": "unsupported operand type(s) for +: 'int' and 'str'",
     "output_type": "error",
     "traceback": [
      "\u001b[1;31m---------------------------------------------------------------------------\u001b[0m",
      "\u001b[1;31mTypeError\u001b[0m                                 Traceback (most recent call last)",
      "\u001b[1;32m<ipython-input-7-cc8e41b5aeea>\u001b[0m in \u001b[0;36m<module>\u001b[1;34m\u001b[0m\n\u001b[0;32m      6\u001b[0m \u001b[0mprint\u001b[0m\u001b[1;33m(\u001b[0m\u001b[1;34m\"Data type of b: {type(b)}\"\u001b[0m\u001b[1;33m)\u001b[0m\u001b[1;33m\u001b[0m\u001b[1;33m\u001b[0m\u001b[0m\n\u001b[0;32m      7\u001b[0m \u001b[1;33m\u001b[0m\u001b[0m\n\u001b[1;32m----> 8\u001b[1;33m \u001b[0mprint\u001b[0m\u001b[1;33m(\u001b[0m\u001b[0ma\u001b[0m \u001b[1;33m+\u001b[0m \u001b[0mb\u001b[0m\u001b[1;33m)\u001b[0m\u001b[1;33m\u001b[0m\u001b[1;33m\u001b[0m\u001b[0m\n\u001b[0m",
      "\u001b[1;31mTypeError\u001b[0m: unsupported operand type(s) for +: 'int' and 'str'"
     ]
    }
   ],
   "source": [
    "#Addition of string data type and integer datatype\n",
    "a = 123\n",
    "b = \"456\"\n",
    "\n",
    "print(\"Data type of a: {type(a)}\")\n",
    "print(\"Data type of b: {type(b)}\")\n",
    "\n",
    "print(a + b)"
   ]
  },
  {
   "cell_type": "markdown",
   "metadata": {},
   "source": [
    "* As we can see from the output, we got TypeError. Python is not able to use Implicit Conversion in such conditions.\n",
    "* However, Python has a solution for these types of situations which is known as **Explicit Conversion**."
   ]
  },
  {
   "cell_type": "markdown",
   "metadata": {},
   "source": [
    "### Explicit Conversion\n",
    "* In Explicit Type Conversion, users convert the data type of an object to required data type. We use the predefined functions like **int()**, **float()**, **str()**, etc to perform explicit type conversion.\n",
    "\n",
    "* This type of conversion is also called **typecasting** because the user casts (changes) the data type of the objects."
   ]
  },
  {
   "cell_type": "code",
   "execution_count": 10,
   "metadata": {},
   "outputs": [
    {
     "name": "stdout",
     "output_type": "stream",
     "text": [
      "Data type of a: <class 'int'>\n",
      "Data type of b: <class 'str'>\n",
      "\n",
      "Data type of b after Type Casting as b_new: <class 'int'>\n",
      "579\n"
     ]
    }
   ],
   "source": [
    "#Addition of string and integer using explicit conversion\n",
    "a = 123\n",
    "b = \"456\"\n",
    "\n",
    "print(f\"Data type of a: {type(a)}\")\n",
    "print(f\"Data type of b: {type(b)}\")\n",
    "\n",
    "# Type Casting\n",
    "b_new = int(b)\n",
    "print(f\"\\nData type of b after Type Casting as b_new: {type(b_new)}\")\n",
    "\n",
    "print(a + b_new)"
   ]
  },
  {
   "cell_type": "markdown",
   "metadata": {},
   "source": [
    "* Likewise typecasting can be done by assigning the required data type function to the expression."
   ]
  },
  {
   "cell_type": "markdown",
   "metadata": {},
   "source": [
    "# Taking input in Python\n",
    "* The input() function allows user input.\n",
    "* input ( ) : This function first takes the input from the user and then evaluates the expression, which means Python automatically identifies whether user entered a string or a number or list. If the input provided is not correct then either syntax error or exception is raised by python.<br>\n",
    "\n",
    "* Whatever you enter as input, input function convert it into a **string**. if you enter an integer value still input() function convert it into a string. You need to explicitly convert it into an integer in your code using typecasting."
   ]
  },
  {
   "cell_type": "code",
   "execution_count": 13,
   "metadata": {},
   "outputs": [
    {
     "name": "stdout",
     "output_type": "stream",
     "text": [
      "Enter your Firstname: Jupyter\n",
      "Enter your Lastname: Notebook\n",
      "Type of val_1 input: <class 'str'>\n",
      "Type of val_2 input: <class 'str'>\n",
      "Your name is Jupyter Notebook!\n"
     ]
    }
   ],
   "source": [
    "#Whatever you enter as input, input function convert it into a string\n",
    "val_1 = input(\"Enter your Firstname: \")\n",
    "val_2 = input(\"Enter your Lastname: \") \n",
    "\n",
    "#let's see the default datatype\n",
    "print(f\"Type of val_1 input: {type(val_1)}\")\n",
    "print(f\"Type of val_2 input: {type(val_2)}\")\n",
    "\n",
    "print(f\"Your name is {val_1} {val_2}!\")"
   ]
  },
  {
   "cell_type": "code",
   "execution_count": 14,
   "metadata": {},
   "outputs": [
    {
     "name": "stdout",
     "output_type": "stream",
     "text": [
      "Enter the name of the player: Ronaldo\n",
      "Enter the jersey number: 7\n",
      "Ronaldo lifted the trophy wearing his No.7 jersey.\n"
     ]
    }
   ],
   "source": [
    "# type casting\n",
    "#Ronaldo lifted the trophy wearing his No.7 jersey.\n",
    "    \n",
    "name = input(\"Enter the name of the player: \")\n",
    "jersey_no = int(input(\"Enter the jersey number: \"))\n",
    "\n",
    "print(f\"{name} lifted the trophy wearing his No.{jersey_no} jersey.\")"
   ]
  },
  {
   "cell_type": "code",
   "execution_count": 16,
   "metadata": {},
   "outputs": [
    {
     "name": "stdout",
     "output_type": "stream",
     "text": [
      "Enter your first number: 1024\n",
      "Enter your second number: 3026\n",
      "Addition = 4050\n"
     ]
    }
   ],
   "source": [
    "#int addition\n",
    "input_1 = int(input(\"Enter your first number: \"))\n",
    "input_2 = int(input(\"Enter your second number: \"))\n",
    "\n",
    "print(f\"Addition = {input_1 + input_2}\")"
   ]
  },
  {
   "cell_type": "code",
   "execution_count": 18,
   "metadata": {},
   "outputs": [
    {
     "name": "stdout",
     "output_type": "stream",
     "text": [
      "Enter your first number: 20.45\n",
      "Enter your second number: 34.21\n",
      "Multiplication = 699.5945\n"
     ]
    }
   ],
   "source": [
    "#float multiplication\n",
    "input_1 = float(input(\"Enter your first number: \"))\n",
    "input_2 = float(input(\"Enter your second number: \"))\n",
    "\n",
    "print(f\"Multiplication = {input_1 * input_2}\")"
   ]
  },
  {
   "cell_type": "markdown",
   "metadata": {},
   "source": [
    "# Python Keywords\n",
    "    - Keywords are the reserved words in python.\n",
    "    - We can't use a keyword as variable name, function name or any other identifier.\n",
    "    - Keywords are case sentive."
   ]
  },
  {
   "cell_type": "code",
   "execution_count": 20,
   "metadata": {},
   "outputs": [
    {
     "name": "stdout",
     "output_type": "stream",
     "text": [
      "['False', 'None', 'True', 'and', 'as', 'assert', 'async', 'await', 'break', 'class', 'continue', 'def', 'del', 'elif', 'else', 'except', 'finally', 'for', 'from', 'global', 'if', 'import', 'in', 'is', 'lambda', 'nonlocal', 'not', 'or', 'pass', 'raise', 'return', 'try', 'while', 'with', 'yield']\n",
      "\n",
      "There are total 35 keywords in python.\n"
     ]
    }
   ],
   "source": [
    "#Get all keywords in python 3\n",
    "import keyword\n",
    "print(keyword.kwlist)\n",
    "\n",
    "print(f\"\\nThere are total {len(keyword.kwlist)} keywords in python.\")\n"
   ]
  },
  {
   "cell_type": "markdown",
   "metadata": {},
   "source": [
    "# Identifiers\n",
    "    - Identifier is the name given to entities like class, functions, variables etc. in Python. It helps differentiating one entity from another.\n",
    "    \n",
    "Rules for Writing Identifiers:\n",
    "\n",
    "1. Identifiers can be a combination of letters in lowercase (a to z) or uppercase (A to Z) or digits (0 to 9) or an underscore (_).\n",
    "\n",
    "2. An identifier cannot start with a digit. i.e 1variable is invalid, but variable1 is perfectly fine.\n",
    "\n",
    "3. Keywords cannot be used as identifiers."
   ]
  },
  {
   "cell_type": "code",
   "execution_count": 21,
   "metadata": {},
   "outputs": [
    {
     "ename": "SyntaxError",
     "evalue": "invalid syntax (<ipython-input-21-773eba7f7781>, line 1)",
     "output_type": "error",
     "traceback": [
      "\u001b[1;36m  File \u001b[1;32m\"<ipython-input-21-773eba7f7781>\"\u001b[1;36m, line \u001b[1;32m1\u001b[0m\n\u001b[1;33m    if = 1\u001b[0m\n\u001b[1;37m       ^\u001b[0m\n\u001b[1;31mSyntaxError\u001b[0m\u001b[1;31m:\u001b[0m invalid syntax\n"
     ]
    }
   ],
   "source": [
    "if = 1"
   ]
  },
  {
   "cell_type": "code",
   "execution_count": 22,
   "metadata": {},
   "outputs": [
    {
     "ename": "SyntaxError",
     "evalue": "invalid syntax (<ipython-input-22-0782ffd5b2c0>, line 1)",
     "output_type": "error",
     "traceback": [
      "\u001b[1;36m  File \u001b[1;32m\"<ipython-input-22-0782ffd5b2c0>\"\u001b[1;36m, line \u001b[1;32m1\u001b[0m\n\u001b[1;33m    while = 10\u001b[0m\n\u001b[1;37m          ^\u001b[0m\n\u001b[1;31mSyntaxError\u001b[0m\u001b[1;31m:\u001b[0m invalid syntax\n"
     ]
    }
   ],
   "source": [
    "while = 10"
   ]
  },
  {
   "cell_type": "markdown",
   "metadata": {},
   "source": [
    "     We cannot use special symbols like !, @, #, $, % etc. in our identifier."
   ]
  },
  {
   "cell_type": "code",
   "execution_count": 23,
   "metadata": {},
   "outputs": [
    {
     "ename": "SyntaxError",
     "evalue": "invalid syntax (<ipython-input-23-a615a2f3f728>, line 1)",
     "output_type": "error",
     "traceback": [
      "\u001b[1;36m  File \u001b[1;32m\"<ipython-input-23-a615a2f3f728>\"\u001b[1;36m, line \u001b[1;32m1\u001b[0m\n\u001b[1;33m    a@ = 10             #can't use special symbols as an identifier\u001b[0m\n\u001b[1;37m       ^\u001b[0m\n\u001b[1;31mSyntaxError\u001b[0m\u001b[1;31m:\u001b[0m invalid syntax\n"
     ]
    }
   ],
   "source": [
    "a@ = 10             #can't use special symbols as an identifier"
   ]
  },
  {
   "cell_type": "code",
   "execution_count": 25,
   "metadata": {},
   "outputs": [
    {
     "ename": "SyntaxError",
     "evalue": "invalid syntax (<ipython-input-25-137e13a31c7e>, line 1)",
     "output_type": "error",
     "traceback": [
      "\u001b[1;36m  File \u001b[1;32m\"<ipython-input-25-137e13a31c7e>\"\u001b[1;36m, line \u001b[1;32m1\u001b[0m\n\u001b[1;33m    $ = \"name\"\u001b[0m\n\u001b[1;37m    ^\u001b[0m\n\u001b[1;31mSyntaxError\u001b[0m\u001b[1;31m:\u001b[0m invalid syntax\n"
     ]
    }
   ],
   "source": [
    "$ = \"name\""
   ]
  },
  {
   "cell_type": "code",
   "execution_count": null,
   "metadata": {},
   "outputs": [],
   "source": []
  }
 ],
 "metadata": {
  "kernelspec": {
   "display_name": "Python 3",
   "language": "python",
   "name": "python3"
  },
  "language_info": {
   "codemirror_mode": {
    "name": "ipython",
    "version": 3
   },
   "file_extension": ".py",
   "mimetype": "text/x-python",
   "name": "python",
   "nbconvert_exporter": "python",
   "pygments_lexer": "ipython3",
   "version": "3.7.3"
  }
 },
 "nbformat": 4,
 "nbformat_minor": 2
}
